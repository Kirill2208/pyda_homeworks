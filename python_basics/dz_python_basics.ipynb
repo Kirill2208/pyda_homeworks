{
 "cells": [
  {
   "cell_type": "code",
   "execution_count": 52,
   "metadata": {},
   "outputs": [
    {
     "name": "stdout",
     "output_type": "stream",
     "text": [
      "Введите фразу 1Насколько проще было бы писать программы, если бы не заказчики\n",
      "Введите фразу 2640Кб должно хватить для любых задач. Билл Гейтс (по легенде)\n",
      "первая фраза длиннее второй\n"
     ]
    }
   ],
   "source": [
    "# Задача 1\n",
    "\n",
    "Phrase_1 = input('Введите фразу 1')\n",
    "Phrase_2 = input('Введите фразу 2')\n",
    "\n",
    "if len(Phrase_1) < len(Phrase_2):\n",
    "    print('первая фраза короче второй')\n",
    "elif len(Phrase_1) > len(Phrase_2):\n",
    "    print('первая фраза длиннее второй')\n",
    "else:\n",
    "    print('фразы одинаковой длины')"
   ]
  },
  {
   "cell_type": "code",
   "execution_count": 4,
   "metadata": {},
   "outputs": [
    {
     "name": "stdout",
     "output_type": "stream",
     "text": [
      "Введите год1200\n",
      "високосный год\n"
     ]
    }
   ],
   "source": [
    "# Задача 2\n",
    "\n",
    "Year = int(input('Введите год'))\n",
    "\n",
    "if Year % 4 ==0 or Year % 400 == 0 and Year % 100 != 0:\n",
    "    print('високосный год')\n",
    "else:\n",
    "    print('обычный год')\n",
    "\n",
    "\n",
    "\n"
   ]
  },
  {
   "cell_type": "code",
   "execution_count": 42,
   "metadata": {},
   "outputs": [
    {
     "name": "stdout",
     "output_type": "stream",
     "text": [
      "Введите день31\n",
      "Введите месяцсентябрь\n",
      " Неправильный ввод даты\n"
     ]
    }
   ],
   "source": [
    "# Задача 3\n",
    "\n",
    "day = int(input('Введите день'))\n",
    "\n",
    "month = input('Введите месяц')\n",
    "if day < 31:\n",
    "    if month == 'январь' or month == 'февраль' or month == 'март' or month =='апрель' or month =='май' or month =='июнь' or month == 'июль' or month == 'август' or month == 'сентябрь' or month == 'ноябрь' or month == 'декабрь' or month == 'октябрь':\n",
    "        if day == 31 and month == 'апрель' or day == 31 and month == 'июнь' or day == 31 and month == 'сентябрь' or day == 31 and month == 'ноябрь':\n",
    "            if month == 'март' and (31 >= day >= 21) or month == 'апрель' and (20 >= day >= 1):\n",
    "                print('Ваш знак зодиака - овен')\n",
    "            elif month == 'апрель' and (30 >= day >= 21) or month == 'май' and (20 >= day >= 1):\n",
    "                print('Ваш знак зодиака - телец')\n",
    "            elif month == 'май' and (31 >= day >= 21) or month == 'июнь' and (21 >= day >= 1):\n",
    "                print('Ваш знак зодиака - близнецы')\n",
    "            elif month == 'июнь' and (30 >= day >= 22) or month == 'июль' and (22 >= day >= 1):\n",
    "                print('Ваш знак зодиака - рак')\n",
    "            elif month == 'июль' and (31 >= day >= 23) or month == 'август' and (23 >= day >= 1):\n",
    "                print('Ваш знак зодиака - лев')\n",
    "            elif month == 'август' and (31 >= day >= 24) or month == 'сентябрь' and (23 >= day >= 1):\n",
    "                print('Ваш знак зодиака - дева')\n",
    "            elif month == 'сентябрь' and (30 >= day >= 24) or month == 'октябрь' and (23 >= day >= 1):\n",
    "                print('Ваш знак зодиака - весы')\n",
    "            elif month == 'октябрь' and (31 >= day >= 24) or month == 'ноябрь' and (22 >= day >= 1):\n",
    "                print('Ваш знак зодиака - скорпион')\n",
    "            elif month == 'ноябрь' and (30 >= day >= 23) or month == 'декабрь' and (21 >= day >= 1):\n",
    "                print('Ваш знак зодиака - стрелец')\n",
    "            elif month == 'декабрь' and (31 >= day >= 22) or month == 'январь' and (20 >= day >= 1):\n",
    "                print('Ваш знак зодиака - козерог')\n",
    "            elif month == 'январь' and (31 >= day >= 21) or month == 'февраль' and (20 >= day >= 1):\n",
    "                print('Ваш знак зодиака - водолей')\n",
    "            elif month == 'февраль' and (29 >= day >= 21) or month == 'март' and (20 >= day >= 1):\n",
    "                print('Ваш знак зодиака - рыбы')\n",
    "        else:\n",
    "            print('Неправильный ввод даты')\n",
    "    else:\n",
    "        print('Неправильный ввод месяца')\n",
    "else:\n",
    "    print('Неправильный ввод даты')"
   ]
  },
  {
   "cell_type": "code",
   "execution_count": 51,
   "metadata": {},
   "outputs": [
    {
     "name": "stdout",
     "output_type": "stream",
     "text": [
      "Введите ширину1\n",
      "Введите длину2\n",
      "Введите высоту3\n",
      "Коробка №1\n"
     ]
    }
   ],
   "source": [
    "# Задача 4\n",
    "\n",
    "width = int(input('Введите ширину'))\n",
    "length = int(input('Введите длину'))\n",
    "height = int(input('Введите высоту'))\n",
    "\n",
    "if width <= 15 and length <= 15 and height <= 15:\n",
    "    print('Коробка №1')\n",
    "elif 15 <= width <= 50 and 15 <= length <= 50 and 15 <= height <= 50:\n",
    "    print('Коробка №2')\n",
    "elif length >= 200:\n",
    "    print('Упаковка для лыж')\n",
    "else:\n",
    "    print('Стандартная коробка №3')"
   ]
  }
 ],
 "metadata": {
  "kernelspec": {
   "display_name": "Python 3",
   "language": "python",
   "name": "python3"
  },
  "language_info": {
   "codemirror_mode": {
    "name": "ipython",
    "version": 3
   },
   "file_extension": ".py",
   "mimetype": "text/x-python",
   "name": "python",
   "nbconvert_exporter": "python",
   "pygments_lexer": "ipython3",
   "version": "3.8.5"
  }
 },
 "nbformat": 4,
 "nbformat_minor": 4
}
